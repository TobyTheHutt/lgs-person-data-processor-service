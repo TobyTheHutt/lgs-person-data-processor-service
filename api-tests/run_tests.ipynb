{
 "cells": [
  {
   "cell_type": "code",
   "execution_count": 1,
   "metadata": {},
   "outputs": [],
   "source": [
    "import requests\n",
    "from os import listdir\n",
    "from os.path import isfile, join\n",
    "import json\n",
    "import time"
   ]
  },
  {
   "cell_type": "code",
   "execution_count": 2,
   "metadata": {},
   "outputs": [],
   "source": [
    "api_url = \"http://localhost:8080/api/v1/\"\n",
    "partial_seed_url = api_url + \"seed/partial\"\n",
    "full_seed_url = api_url + \"seed/partial\"\n",
    "transactions_url = api_url + \"seed/transactions\"\n",
    "transaction_url = api_url + \"seed/transaction\"\n",
    "jobs_url = api_url + \"jobs\"\n",
    "headers = {\"Authorization\": \"token test-key\", \"Content-Type\":\"application/json\"}"
   ]
  },
  {
   "cell_type": "code",
   "execution_count": 3,
   "metadata": {},
   "outputs": [],
   "source": [
    "valid_person_data_path = \"person-data/valid/\"\n",
    "invalid_person_data_path = \"person-data/invalid\"\n",
    "valid_person_data = [valid_person_data_path+f for f in listdir(valid_person_data_path) if isfile(join(valid_person_data_path, f))]\n",
    "invalid_person_data = [invalid_person_data_path+f for f in listdir(invalid_person_data_path) if isfile(join(invalid_person_data_path, f))]"
   ]
  },
  {
   "cell_type": "code",
   "execution_count": 4,
   "metadata": {},
   "outputs": [
    {
     "data": {
      "text/plain": [
       "['person-data/invalidnatural-person2.json',\n",
       " 'person-data/invalidnatural-person1.json']"
      ]
     },
     "execution_count": 4,
     "metadata": {},
     "output_type": "execute_result"
    }
   ],
   "source": [
    "invalid_person_data"
   ]
  },
  {
   "cell_type": "code",
   "execution_count": 5,
   "metadata": {},
   "outputs": [],
   "source": [
    "def load_json(filename):\n",
    "    json_file = open(filename)\n",
    "    return json_file.read()"
   ]
  },
  {
   "cell_type": "code",
   "execution_count": 6,
   "metadata": {},
   "outputs": [
    {
     "data": {
      "text/plain": [
       "'{\\n  \"metaData\": {\\n    \"personType\": \"NATUERLICHE_PERSON\",\\n    \"eventType\": \"INSERT\"\\n  },\\n  \"natuerlichePerson\": {\\n    \"name\": \"Smith\",\\n    \"vorname\": \"John\",\\n    \"jahrgang\": \"1970\"\\n  }\\n}'"
      ]
     },
     "execution_count": 6,
     "metadata": {},
     "output_type": "execute_result"
    }
   ],
   "source": [
    "load_json(\"person-data/valid/natural-person1.json\")"
   ]
  },
  {
   "cell_type": "code",
   "execution_count": 7,
   "metadata": {},
   "outputs": [],
   "source": [
    "def send_data(url, headers, data_list):\n",
    "    transaction_ids = []\n",
    "    for data in data_list:\n",
    "        response = requests.post(partial_seed_url, headers=headers, data=data)\n",
    "        assert response.status_code == 200\n",
    "            \n",
    "        transaction_ids.append(response.json()[\"transactionId\"])\n",
    "    return transaction_ids        "
   ]
  },
  {
   "cell_type": "code",
   "execution_count": 8,
   "metadata": {},
   "outputs": [],
   "source": [
    "def run_tests():\n",
    "    return {\n",
    "        \"ids_valid_person_data\":send_data(partial_seed_url, headers, list(map(load_json, valid_person_data))),\n",
    "        \"ids_invalid_person_data\":send_data(partial_seed_url, headers, list(map(load_json, invalid_person_data))),\n",
    "    }\n",
    "    "
   ]
  },
  {
   "cell_type": "code",
   "execution_count": 10,
   "metadata": {},
   "outputs": [],
   "source": [
    "def get_transaction(transactionId):\n",
    "    json_response = requests.get(transaction_url+\"/\"+transactionId, headers=headers).json()\n",
    "    return json_response"
   ]
  },
  {
   "cell_type": "code",
   "execution_count": 11,
   "metadata": {},
   "outputs": [
    {
     "data": {
      "text/plain": [
       "{'transactionId': '218bd690-cabb-4329-b720-2b14f8c7d957',\n",
       " 'state': 'FAILED',\n",
       " 'jobId': None}"
      ]
     },
     "execution_count": 11,
     "metadata": {},
     "output_type": "execute_result"
    }
   ],
   "source": [
    "get_transaction(\"218bd690-cabb-4329-b720-2b14f8c7d957\")"
   ]
  },
  {
   "cell_type": "code",
   "execution_count": 12,
   "metadata": {},
   "outputs": [],
   "source": [
    "def wait_for_completion(transaction_id):\n",
    "    transaction = get_transaction(\"218bd690-cabb-4329-b720-2b14f8c7d957\")\n",
    "    processing = True\n",
    "    trials = 0\n",
    "    while(processing and trials < 10):\n",
    "        trials = trials + 1\n",
    "        if(transaction['state'] in [\"PROCESSED\", \"FAILED\"]):\n",
    "            return transaction['state']\n",
    "        else:\n",
    "            sleep(1)\n",
    "            transaction = get_transaction(\"218bd690-cabb-4329-b720-2b14f8c7d957\")\n",
    "    return \"STALE\"\n",
    "        "
   ]
  },
  {
   "cell_type": "code",
   "execution_count": 13,
   "metadata": {},
   "outputs": [
    {
     "data": {
      "text/plain": [
       "[('person-data/valid/natural-person2.json',\n",
       "  '{\\n  \"metaData\": {\\n    \"personType\": \"NATUERLICHE_PERSON\",\\n    \"eventType\": \"INSERT\"\\n  },\\n  \"natuerlichePerson\": {\\n    \"name\": \"Müller\",\\n    \"vorname\": \"Hans\",\\n    \"jahrgang\": \"1970\"\\n  }\\n}'),\n",
       " ('person-data/valid/natural-person3.json',\n",
       "  '{\\n  \"metaData\": {\\n    \"personType\": \"JURISITSCHE_PERSON\",\\n    \"eventType\": \"INSERT\"\\n  },\\n  \"natuerlichePerson\": {\\n    \"name\": \"Müller\",\\n    \"vorname\": \"Hans\",\\n    \"jahrgang\": \"1970\"\\n  }\\n}'),\n",
       " ('person-data/valid/natural-person1.json',\n",
       "  '{\\n  \"metaData\": {\\n    \"personType\": \"NATUERLICHE_PERSON\",\\n    \"eventType\": \"INSERT\"\\n  },\\n  \"natuerlichePerson\": {\\n    \"name\": \"Smith\",\\n    \"vorname\": \"John\",\\n    \"jahrgang\": \"1970\"\\n  }\\n}')]"
      ]
     },
     "execution_count": 13,
     "metadata": {},
     "output_type": "execute_result"
    }
   ],
   "source": [
    "list(zip(valid_person_data,map(load_json, valid_person_data)))"
   ]
  },
  {
   "cell_type": "code",
   "execution_count": 14,
   "metadata": {},
   "outputs": [
    {
     "data": {
      "text/plain": [
       "{'transactionId': '6ac23b82-0ee8-4054-bf64-6596e5c01180',\n",
       " 'state': 'FAILED',\n",
       " 'jobId': None}"
      ]
     },
     "execution_count": 14,
     "metadata": {},
     "output_type": "execute_result"
    }
   ],
   "source": [
    "get_transaction(\"6ac23b82-0ee8-4054-bf64-6596e5c01180\")"
   ]
  },
  {
   "cell_type": "code",
   "execution_count": null,
   "metadata": {},
   "outputs": [],
   "source": []
  }
 ],
 "metadata": {
  "kernelspec": {
   "display_name": "Python 3",
   "language": "python",
   "name": "python3"
  },
  "language_info": {
   "codemirror_mode": {
    "name": "ipython",
    "version": 3
   },
   "file_extension": ".py",
   "mimetype": "text/x-python",
   "name": "python",
   "nbconvert_exporter": "python",
   "pygments_lexer": "ipython3",
   "version": "3.7.9"
  }
 },
 "nbformat": 4,
 "nbformat_minor": 4
}
